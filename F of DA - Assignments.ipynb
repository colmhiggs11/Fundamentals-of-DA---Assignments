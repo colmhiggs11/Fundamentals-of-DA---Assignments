{
 "cells": [
  {
   "cell_type": "markdown",
   "metadata": {},
   "source": [
    "<br>\n",
    "\n",
    "# Assignment 1\n",
    "***\n",
    "\n",
    "Assignment 1 consists of writing a Python function called counts that takes a list as\n",
    "input and returns a dictionary of unique items in the list as keys and the number of\n",
    "times each item appears as values. So, the input \n",
    "\n",
    "    ['A', 'A', 'B', 'C', 'A']\n",
    "\n",
    "should have output \n",
    "\n",
    "    {'A': 3, 'B': 1, 'C': 1}"
   ]
  },
  {
   "cell_type": "code",
   "execution_count": null,
   "metadata": {},
   "outputs": [],
   "source": [
    "my_list = []\n",
    "# Input number of items you want to add to the list\n",
    "n = int(input(\"Enter how many items you want in the list : \"))\n",
    "for i in range(0, n):\n",
    "   data = input(\"Enter item No-{}: \".format(i+1))\n",
    "   my_list.append(data) # adding the data to the list\n",
    "print(\"The entered list is: \\n\",my_list)"
   ]
  },
  {
   "cell_type": "code",
   "execution_count": null,
   "metadata": {},
   "outputs": [],
   "source": [
    "# Fucntion will take the above list and count the frequency the items appeared\n",
    "def Counts(my_list): \n",
    "  \n",
    "    # Creating an empty dictionary  \n",
    "    newdict = {} \n",
    "    for item in my_list: \n",
    "    #taking the data from the list and putting into dictionary\n",
    "        if (item in newdict): \n",
    "            newdict[item] += 1\n",
    "        else: \n",
    "            newdict[item] = 1\n",
    "    #Prints the item and the number of times it appeared in the dictionary\n",
    "    for key, value in newdict.items():\n",
    "        print(key, value)\n",
    "      \n",
    "Counts(my_list)"
   ]
  },
  {
   "cell_type": "markdown",
   "metadata": {},
   "source": [
    "## References\n",
    "\n",
    "1. https://www.geeksforgeeks.org/counting-the-frequencies-in-a-list-using-dictionary-in-python/\n",
    "2. https://www.geeksforgeeks.org/python-count-number-of-items-in-a-dictionary-value-that-is-a-list/\n",
    "3. https://thispointer.com/python-how-to-convert-a-list-to-dictionary/\n",
    "4. http://www.learningaboutelectronics.com/Articles/How-to-create-an-empty-dictionary-in-Python.php\n",
    "5. https://www.tutorialspoint.com/python-get-a-list-as-input-from-user"
   ]
  },
  {
   "cell_type": "markdown",
   "metadata": {},
   "source": [
    "<br>\n",
    "\n",
    "# Assignment 2\n",
    "***\n",
    "Assignment 2 consists of writing a Python function called dicerolls that simulates\n",
    "rolling dice. Your function should take two parameters: the **number of dice k** and\n",
    "the **number of times to roll the dice n**. The function should **simulate randomly\n",
    "rolling k dice n times**, keeping track of each total face value. It should then **return\n",
    "a dictionary** with the number of times each possible total face value occurred. So,\n",
    "calling the function as \n",
    "\n",
    "    diceroll(k=2, n=1000) \n",
    "\n",
    "should return a dictionary like:\n",
    "    \n",
    "    {2:19,3:50,4:82,5:112,6:135,7:174,8:133,9:114,10:75,11:70,12:36}"
   ]
  },
  {
   "cell_type": "code",
   "execution_count": 15,
   "metadata": {},
   "outputs": [
    {
     "ename": "IndexError",
     "evalue": "list index out of range",
     "output_type": "error",
     "traceback": [
      "\u001b[1;31m---------------------------------------------------------------------------\u001b[0m",
      "\u001b[1;31mIndexError\u001b[0m                                Traceback (most recent call last)",
      "\u001b[1;32m<ipython-input-15-7510a6b98b07>\u001b[0m in \u001b[0;36m<module>\u001b[1;34m\u001b[0m\n\u001b[0;32m     12\u001b[0m     \u001b[0mprint\u001b[0m\u001b[1;33m(\u001b[0m\u001b[1;34m\"The Sum of both Die rolls are: \\n\"\u001b[0m\u001b[1;33m,\u001b[0m\u001b[0mmy_lista\u001b[0m\u001b[1;33m)\u001b[0m\u001b[1;33m\u001b[0m\u001b[1;33m\u001b[0m\u001b[0m\n\u001b[0;32m     13\u001b[0m \u001b[1;33m\u001b[0m\u001b[0m\n\u001b[1;32m---> 14\u001b[1;33m \u001b[0mCreateArray\u001b[0m\u001b[1;33m(\u001b[0m\u001b[1;33m)\u001b[0m\u001b[1;33m\u001b[0m\u001b[1;33m\u001b[0m\u001b[0m\n\u001b[0m\u001b[0;32m     15\u001b[0m \u001b[1;31m#dict(zip(keys, my_lista.T))\u001b[0m\u001b[1;33m\u001b[0m\u001b[1;33m\u001b[0m\u001b[1;33m\u001b[0m\u001b[0m\n",
      "\u001b[1;32m<ipython-input-15-7510a6b98b07>\u001b[0m in \u001b[0;36mCreateArray\u001b[1;34m()\u001b[0m\n\u001b[0;32m      8\u001b[0m \u001b[1;33m\u001b[0m\u001b[0m\n\u001b[0;32m      9\u001b[0m     \u001b[1;32mfor\u001b[0m \u001b[0mi\u001b[0m \u001b[1;32min\u001b[0m \u001b[0mrange\u001b[0m\u001b[1;33m(\u001b[0m\u001b[1;36m2\u001b[0m\u001b[1;33m)\u001b[0m\u001b[1;33m:\u001b[0m\u001b[1;33m\u001b[0m\u001b[1;33m\u001b[0m\u001b[0m\n\u001b[1;32m---> 10\u001b[1;33m         \u001b[0mmy_lista\u001b[0m\u001b[1;33m.\u001b[0m\u001b[0mappend\u001b[0m\u001b[1;33m(\u001b[0m\u001b[0mroll1\u001b[0m\u001b[1;33m[\u001b[0m\u001b[0mi\u001b[0m\u001b[1;33m]\u001b[0m\u001b[1;33m+\u001b[0m \u001b[0mroll2\u001b[0m\u001b[1;33m[\u001b[0m\u001b[0mi\u001b[0m\u001b[1;33m]\u001b[0m\u001b[1;33m)\u001b[0m\u001b[1;33m\u001b[0m\u001b[1;33m\u001b[0m\u001b[0m\n\u001b[0m\u001b[0;32m     11\u001b[0m \u001b[1;33m\u001b[0m\u001b[0m\n\u001b[0;32m     12\u001b[0m     \u001b[0mprint\u001b[0m\u001b[1;33m(\u001b[0m\u001b[1;34m\"The Sum of both Die rolls are: \\n\"\u001b[0m\u001b[1;33m,\u001b[0m\u001b[0mmy_lista\u001b[0m\u001b[1;33m)\u001b[0m\u001b[1;33m\u001b[0m\u001b[1;33m\u001b[0m\u001b[0m\n",
      "\u001b[1;31mIndexError\u001b[0m: list index out of range"
     ]
    }
   ],
   "source": [
    "import numpy as np\n",
    "import random\n",
    "rng = np.random.default_rng()\n",
    "def CreateArray():\n",
    "    roll1 = [rng.integers(1,7,size =100)]\n",
    "    roll2 = [rng.integers(1,7,size =100)]\n",
    "    my_lista = []\n",
    "\n",
    "    for i in range(2):\n",
    "        my_lista.append(roll1[i]+ roll2[i])\n",
    "\n",
    "    print(\"The Sum of both Die rolls are: \\n\",my_lista)\n",
    "\n",
    "CreateArray()\n",
    "#dict(zip(keys, my_lista.T))\n"
   ]
  },
  {
   "cell_type": "code",
   "execution_count": 17,
   "metadata": {},
   "outputs": [
    {
     "ename": "TypeError",
     "evalue": "'list' object is not callable",
     "output_type": "error",
     "traceback": [
      "\u001b[1;31m---------------------------------------------------------------------------\u001b[0m",
      "\u001b[1;31mTypeError\u001b[0m                                 Traceback (most recent call last)",
      "\u001b[1;32m<ipython-input-17-dc30d84ffe51>\u001b[0m in \u001b[0;36m<module>\u001b[1;34m\u001b[0m\n\u001b[0;32m     26\u001b[0m        \u001b[1;31m# print(key, value)\u001b[0m\u001b[1;33m\u001b[0m\u001b[1;33m\u001b[0m\u001b[1;33m\u001b[0m\u001b[0m\n\u001b[0;32m     27\u001b[0m \u001b[1;33m\u001b[0m\u001b[0m\n\u001b[1;32m---> 28\u001b[1;33m \u001b[0mCounts\u001b[0m\u001b[1;33m(\u001b[0m\u001b[0mmy_lista\u001b[0m\u001b[1;33m)\u001b[0m\u001b[1;33m\u001b[0m\u001b[1;33m\u001b[0m\u001b[0m\n\u001b[0m",
      "\u001b[1;32m<ipython-input-17-dc30d84ffe51>\u001b[0m in \u001b[0;36mCounts\u001b[1;34m(my_lista)\u001b[0m\n\u001b[0;32m      3\u001b[0m \u001b[1;33m\u001b[0m\u001b[0m\n\u001b[0;32m      4\u001b[0m     \u001b[1;31m# Creating an empty dictionary\u001b[0m\u001b[1;33m\u001b[0m\u001b[1;33m\u001b[0m\u001b[1;33m\u001b[0m\u001b[0m\n\u001b[1;32m----> 5\u001b[1;33m     \u001b[0mnewdicta\u001b[0m \u001b[1;33m=\u001b[0m \u001b[0mmy_lista\u001b[0m\u001b[1;33m(\u001b[0m\u001b[1;36m2\u001b[0m\u001b[1;33m)\u001b[0m\u001b[1;33m\u001b[0m\u001b[1;33m\u001b[0m\u001b[0m\n\u001b[0m\u001b[0;32m      6\u001b[0m \u001b[1;33m\u001b[0m\u001b[0m\n\u001b[0;32m      7\u001b[0m     \u001b[1;32mfor\u001b[0m \u001b[0mx\u001b[0m \u001b[1;32min\u001b[0m \u001b[0mrange\u001b[0m \u001b[1;33m(\u001b[0m\u001b[1;36m100\u001b[0m\u001b[1;33m)\u001b[0m\u001b[1;33m:\u001b[0m\u001b[1;33m\u001b[0m\u001b[1;33m\u001b[0m\u001b[0m\n",
      "\u001b[1;31mTypeError\u001b[0m: 'list' object is not callable"
     ]
    }
   ],
   "source": [
    "# Fucntion will take the above list and count the frequency the items appeared\n",
    "def Counts(my_lista): \n",
    "  \n",
    "    # Creating an empty dictionary  \n",
    "    newdicta = my_lista(2) \n",
    "    \n",
    "    for x in range (100):\n",
    "        roll = rolldice(2)\n",
    "        #print(roll)\n",
    "\n",
    "        if roll in results:\n",
    "            value = results.get(roll)\n",
    "            newValue = value + 1\n",
    "            results[roll] = newValue\n",
    "        #else:\n",
    "            #results[roll] = 1\n",
    "    return results\n",
    "    #for item in my_lista: \n",
    "    #taking the data from the list and putting into dictionary\n",
    "        #if (item in newdicta): \n",
    "         #   newdicta[item] += 1\n",
    "        #else: \n",
    "         #   newdicta[item] = 1\n",
    "    #Prints the item and the number of times it appeared in the dictionary\n",
    "    #for key, value in newdicta.items():\n",
    "       # print(key, value)\n",
    "      \n",
    "Counts(my_lista)\n"
   ]
  },
  {
   "cell_type": "markdown",
   "metadata": {},
   "source": [
    "References"
   ]
  },
  {
   "cell_type": "code",
   "execution_count": null,
   "metadata": {},
   "outputs": [],
   "source": []
  },
  {
   "cell_type": "markdown",
   "metadata": {},
   "source": [
    "<br>\n",
    "\n",
    "# Assignment 3\n",
    "***\n",
    "The numpy.random.binomial function can be used to simulate flipping a coin with a 50/50 chance of heads or tails. Interestingly, if a coin is flipped many times then the number of heads is well approximated by a\n",
    "bell-shaped curve. For instance, if we flip a coin 100 times in a row the chance of\n",
    "getting 50 heads is relatively high, the chances of getting 0 or 100 heads is relatively\n",
    "low, and the chances of getting any other number of heads decreases as you move\n",
    "away from 50 in either direction towards 0 or 100. Write some python code that\n",
    "simulates flipping a coin 100 times. Then run this code 1,000 times, keeping track\n",
    "of the number of heads in each of the 1,000 simulations. Select an appropriate\n",
    "plot to depict the resulting list of 1,000 numbers, showing that it roughly follows\n",
    "a bell-shaped curve."
   ]
  },
  {
   "cell_type": "markdown",
   "metadata": {},
   "source": [
    "Description"
   ]
  },
  {
   "cell_type": "markdown",
   "metadata": {},
   "source": [
    "References"
   ]
  },
  {
   "cell_type": "code",
   "execution_count": null,
   "metadata": {},
   "outputs": [],
   "source": []
  },
  {
   "cell_type": "markdown",
   "metadata": {},
   "source": [
    "<br>\n",
    "\n",
    "# Assignment 4\n",
    "***\n"
   ]
  },
  {
   "cell_type": "code",
   "execution_count": null,
   "metadata": {},
   "outputs": [],
   "source": []
  }
 ],
 "metadata": {
  "kernelspec": {
   "display_name": "Python 3",
   "language": "python",
   "name": "python3"
  },
  "language_info": {
   "codemirror_mode": {
    "name": "ipython",
    "version": 3
   },
   "file_extension": ".py",
   "mimetype": "text/x-python",
   "name": "python",
   "nbconvert_exporter": "python",
   "pygments_lexer": "ipython3",
   "version": "3.7.4"
  }
 },
 "nbformat": 4,
 "nbformat_minor": 2
}
