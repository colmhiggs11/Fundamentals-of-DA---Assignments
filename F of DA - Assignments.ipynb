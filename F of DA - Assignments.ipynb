{
 "cells": [
  {
   "cell_type": "markdown",
   "metadata": {},
   "source": [
    "<br>\n",
    "\n",
    "# Assignment 1\n",
    "***\n",
    "\n",
    "Assignment 1 consists of writing a Python function called counts that takes a list as\n",
    "input and returns a dictionary of unique items in the list as keys and the number of\n",
    "times each item appears as values. So, the input \n",
    "\n",
    "    ['A', 'A', 'B', 'C', 'A']\n",
    "\n",
    "should have output \n",
    "\n",
    "    {'A': 3, 'B': 1, 'C': 1}"
   ]
  },
  {
   "cell_type": "code",
   "execution_count": 1,
   "metadata": {},
   "outputs": [],
   "source": [
    "import numpy as np\n",
    "import random\n",
    "import seaborn as sns"
   ]
  },
  {
   "cell_type": "code",
   "execution_count": 2,
   "metadata": {},
   "outputs": [
    {
     "name": "stdout",
     "output_type": "stream",
     "text": [
      "Enter how many items you want in the list : 4\n",
      "Enter item No-1: 1\n",
      "Enter item No-2: 1\n",
      "Enter item No-3: 1\n",
      "Enter item No-4: 1\n",
      "The entered list is: \n",
      " ['1', '1', '1', '1']\n"
     ]
    }
   ],
   "source": [
    "\n",
    "\n",
    "my_list = []\n",
    "# Input number of items you want to add to the list\n",
    "num = int(input(\"Enter how many items you want in the list : \"))\n",
    "for i in range(0, num):\n",
    "   data = input(\"Enter item No-{}: \".format(i+1))\n",
    "   my_list.append(data) # adding the data to the list\n",
    "print(\"The entered list is: \\n\",my_list)"
   ]
  },
  {
   "cell_type": "code",
   "execution_count": 3,
   "metadata": {},
   "outputs": [
    {
     "name": "stdout",
     "output_type": "stream",
     "text": [
      "{'1': 4}\n"
     ]
    }
   ],
   "source": [
    "# Fucntion will take the above list and count the frequency the items appeared\n",
    "def Counts(my_list): \n",
    "  \n",
    "    # Creating an empty dictionary  \n",
    "    newdict = {} \n",
    "    for item in my_list: \n",
    "    #taking the data from the list and putting into dictionary\n",
    "        if (item in newdict): \n",
    "            newdict[item] += 1\n",
    "        else: \n",
    "            newdict[item] = 1\n",
    "    #Prints the item and the number of times it appeared in the dictionary\n",
    "    print(newdict)\n",
    "\n",
    "Counts(my_list)"
   ]
  },
  {
   "cell_type": "markdown",
   "metadata": {},
   "source": [
    "## References\n",
    "\n",
    "1. https://www.geeksforgeeks.org/counting-the-frequencies-in-a-list-using-dictionary-in-python/\n",
    "2. https://www.geeksforgeeks.org/python-count-number-of-items-in-a-dictionary-value-that-is-a-list/\n",
    "3. https://thispointer.com/python-how-to-convert-a-list-to-dictionary/\n",
    "4. http://www.learningaboutelectronics.com/Articles/How-to-create-an-empty-dictionary-in-Python.php\n",
    "5. https://www.tutorialspoint.com/python-get-a-list-as-input-from-user"
   ]
  },
  {
   "cell_type": "markdown",
   "metadata": {},
   "source": [
    "<br>\n",
    "\n",
    "# Assignment 2\n",
    "***\n",
    "Assignment 2 consists of writing a Python function called dicerolls that simulates\n",
    "rolling dice. Your function should take two parameters: the **number of dice k** and\n",
    "the **number of times to roll the dice n**. The function should **simulate randomly\n",
    "rolling k dice n times**, keeping track of each total face value. It should then **return\n",
    "a dictionary** with the number of times each possible total face value occurred. So,\n",
    "calling the function as \n",
    "\n",
    "    diceroll(k=2, n=1000) \n",
    "\n",
    "should return a dictionary like:\n",
    "    \n",
    "    {2:19,3:50,4:82,5:112,6:135,7:174,8:133,9:114,10:75,11:70,12:36}"
   ]
  },
  {
   "cell_type": "code",
   "execution_count": 19,
   "metadata": {},
   "outputs": [
    {
     "name": "stdout",
     "output_type": "stream",
     "text": [
      "Enter how many die you want: 2\n",
      "Enter how many times you want to roll the two die : 100\n",
      "[7, 11, 9, 5, 4, 11, 10, 4, 5, 6, 8, 12, 4, 4, 6, 6, 10, 4, 6, 9, 5, 10, 6, 4, 3, 2, 7, 6, 8, 8, 9, 3, 3, 6, 8, 6, 3, 4, 7, 7, 6, 8, 4, 3, 3, 6, 8, 5, 9, 7, 7, 7, 7, 3, 5, 5, 5, 3, 9, 7, 9, 7, 6, 11, 7, 10, 5, 6, 7, 5, 8, 8, 9, 10, 8, 9, 9, 9, 11, 10, 12, 6, 7, 9, 10, 8, 10, 4, 7, 2, 7, 5, 9, 3, 5, 7, 7, 9, 7, 8]\n"
     ]
    }
   ],
   "source": [
    "import random\n",
    "\n",
    "numdie = int(input(\"Enter how many die you want: \"))\n",
    "\n",
    "#### Change function to take input no. of die ####\n",
    "def roll(numdie):\n",
    "    #Return a roll of two dice, 2-12\n",
    "    for i in range (numdie):\n",
    "        d1 = random.randint(1, 6)\n",
    "        d2 = random.randint(1, 6)\n",
    "        return d1 + d2\n",
    "\n",
    "my_lista = []\n",
    "\n",
    "num1 = int(input(\"Enter how many times you want to roll the two die : \"))\n",
    "\n",
    "def rolls_dice(num1):\n",
    "    # list the results of rolls\n",
    "\n",
    "    for i in range(num1):\n",
    "        xrol = roll(2)\n",
    "    #print(my_lista)\n",
    "        my_lista.append(xrol)\n",
    "        \n",
    "rolls_dice(num1)\n",
    "\n",
    "print(my_lista)\n"
   ]
  },
  {
   "cell_type": "code",
   "execution_count": 24,
   "metadata": {},
   "outputs": [
    {
     "name": "stdout",
     "output_type": "stream",
     "text": [
      "{2: 2, 3: 9, 4: 9, 5: 11, 6: 13, 7: 18, 8: 11, 9: 13, 10: 8, 11: 4, 12: 2}\n"
     ]
    },
    {
     "data": {
      "image/png": "[encoded data removed]",
      "text/plain": [
       "<Figure size 432x288 with 1 Axes>"
      ]
     },
     "metadata": {
      "needs_background": "light"
     },
     "output_type": "display_data"
    }
   ],
   "source": [
    "# Fucntion will take the above list and count the frequency the items appeared\n",
    "def Counts(my_lista): \n",
    "  \n",
    "    # Creating an empty dictionary  \n",
    "    newdicta = {} \n",
    "    for item in my_lista: \n",
    "    #taking the data from the list and putting into dictionary\n",
    "        if (item in newdicta): \n",
    "            newdicta[item] += 1\n",
    "        else: \n",
    "            newdicta[item] = 1\n",
    "    #Prints the item and the number of times it appeared in the dictionary\n",
    "    print(newdicta)\n",
    "\n",
    "my_lista.sort()\n",
    "\n",
    "Counts(my_lista)\n",
    "\n",
    "sns.distplot(my_lista, color = 'r',bins =20); #histogram and kde plot\n"
   ]
  },
  {
   "cell_type": "markdown",
   "metadata": {},
   "source": [
    "This shows as expected the majority of the rolls occur in the middle section of the range 2-12.\n"
   ]
  },
  {
   "cell_type": "markdown",
   "metadata": {},
   "source": [
    "\n",
    "##  References\n",
    "\n",
    "1. https://www.tutorialspoint.com/python/list_append.htm\n",
    "2. https://www.programiz.com/python-programming/methods/list/sort\n",
    "3. https://stackoverflow.com/questions/33069476/simulating-rolling-2-dice-in-python\n",
    "4. https://numpy.org/doc/stable/reference/random/generated/numpy.random.Generator.integers.html#numpy.random.Generator.integers\n",
    "5. https://www.tutorialspoint.com/count-frequencies-of-all-elements-in-array-in-python"
   ]
  },
  {
   "cell_type": "markdown",
   "metadata": {},
   "source": [
    "<br>\n",
    "\n",
    "# Assignment 3\n",
    "***\n",
    "The numpy.random.binomial function can be used to simulate flipping a coin with a 50/50 chance of heads or tails. Interestingly, if a coin is flipped many times then the number of heads is well approximated by a bell-shaped curve. For instance, if we flip a coin 100 times in a row the chance of getting 50 heads is relatively high, the chances of getting 0 or 100 heads is relatively low, and the chances of getting any other number of heads decreases as you move away from 50 in either direction towards 0 or 100. Write some python code that **simulates flipping a coin 100 times**. Then **run this code 1,000 times**, **keeping track of the number of heads in each of the 1,000 simulations**. Select an **appropriate plot** to depict the resulting list of 1,000 numbers, showing that it **roughly follows a bell-shaped curve.**"
   ]
  },
  {
   "cell_type": "code",
   "execution_count": 6,
   "metadata": {},
   "outputs": [
    {
     "data": {
      "text/plain": [
       "<matplotlib.axes._subplots.AxesSubplot at 0x28a23816508>"
      ]
     },
     "execution_count": 6,
     "metadata": {},
     "output_type": "execute_result"
    },
    {
     "data": {
      "image/png": "[encoded data removed]",
      "text/plain": [
       "<Figure size 432x288 with 1 Axes>"
      ]
     },
     "metadata": {
      "needs_background": "light"
     },
     "output_type": "display_data"
    }
   ],
   "source": [
    "import numpy as np\n",
    "import seaborn as sns\n",
    "\n",
    "def Flip(Num,Prob,Test):\n",
    "    Coinflip = np.random.binomial(Num,Prob,Test)\n",
    "    return Coinflip\n",
    "\n",
    "Coin100 =Flip(100,0.5,100)\n",
    "\n",
    "sns.distplot(Coin100)\n",
    "\n"
   ]
  },
  {
   "cell_type": "markdown",
   "metadata": {},
   "source": [
    "Testing flipping a coin 100 times and showing the distribution"
   ]
  },
  {
   "cell_type": "code",
   "execution_count": 7,
   "metadata": {},
   "outputs": [
    {
     "data": {
      "image/png": "[encoded data removed]",
      "text/plain": [
       "<Figure size 432x288 with 1 Axes>"
      ]
     },
     "metadata": {
      "needs_background": "light"
     },
     "output_type": "display_data"
    }
   ],
   "source": [
    "Coin1000 = Flip(100,0.5,1000)\n",
    "# Bell curve distribution, class with average 60, std =10\n",
    "ax = sns.distplot(Coin1000)\n"
   ]
  },
  {
   "cell_type": "markdown",
   "metadata": {},
   "source": [
    "When the number of flips is increased the shape of the distribution becomes even more bell shaped."
   ]
  },
  {
   "cell_type": "markdown",
   "metadata": {},
   "source": [
    "## References\n",
    "\n",
    "1. https://jakevdp.github.io/PythonDataScienceHandbook/02.02-the-basics-of-numpy-arrays.html\n",
    "2. https://numpy.org/doc/stable/reference/random/generated/numpy.random.Generator.normal.html#numpy.random.Generator.normal\n",
    "3. https://www.kite.com/python/answers/how-to-add-two-lists-element-wise-in-python\n"
   ]
  },
  {
   "cell_type": "markdown",
   "metadata": {},
   "source": [
    "<br>\n",
    "\n",
    "# Assignment 4\n",
    "***\n"
   ]
  },
  {
   "cell_type": "markdown",
   "metadata": {},
   "source": [
    "**Simpson’s paradox** is a well-known statistical paradox where a trend evident in a number of groups reverses when the groups are combined into one big data set. Use **numpy to create four data sets**, each with an **x array and a corresponding y array**, to demonstrate Simpson’s paradox. You might **create your x arrays using numpy.linspace** and **create the y array for each x using notation like y = a * x + b** where you choose the a and b for each x , y pair to demonstrate the paradox. You might see the Wikipedia page for Simpson’s paradox for inspiration.\n",
    "\n",
    "\n",
    " - Create 4 data sets\n",
    "     x array & y array\n",
    "             y array is calcuated by a calculation made from the x array\n",
    " - Plot them and show the trendline\n",
    "\n",
    " - Show simpsons paradox meaning - Data can be misleading, skewed just by the way it is being looked at\n"
   ]
  },
  {
   "cell_type": "code",
   "execution_count": 8,
   "metadata": {},
   "outputs": [
    {
     "name": "stdout",
     "output_type": "stream",
     "text": [
      "[1. 2. 3. 4. 5. 6. 7. 8.] [ 2.75  4.75  6.75  8.75 10.75 12.75 14.75 16.75]\n"
     ]
    },
    {
     "data": {
      "image/png": "[encoded data removed]",
      "text/plain": [
       "<Figure size 432x288 with 1 Axes>"
      ]
     },
     "metadata": {
      "needs_background": "light"
     },
     "output_type": "display_data"
    }
   ],
   "source": [
    "import numpy as np\n",
    "import matplotlib.pyplot as plt\n",
    "\n",
    "# Testing out creating arrays with the same slope but changing the y intercept value \"b\"\n",
    "x = np.linspace(1, 8.0, num=8)\n",
    "\n",
    "a = 2\n",
    "b = 0.75\n",
    "\n",
    "y = a*x+b \n",
    "\n",
    "x1 = np.linspace(1.0, 8.0, num=8)\n",
    "b=b+1\n",
    "y1 = a*x1+b\n",
    "\n",
    "print(x,y)\n",
    "\n",
    "plt.plot(x, y, 'o')\n",
    "plt.plot(x1, y1, 'o')\n",
    "plt.show()\n"
   ]
  },
  {
   "cell_type": "code",
   "execution_count": 9,
   "metadata": {},
   "outputs": [
    {
     "name": "stdout",
     "output_type": "stream",
     "text": [
      "[71. 72. 73. 74. 75. 76. 77. 78. 79. 80.] [115. 125. 135. 145. 155. 165. 175. 185. 195. 205.] [51. 52. 53. 54. 55. 56. 57. 58. 59. 60.] [215. 225. 235. 245. 255. 265. 275. 285. 295. 305.] [31. 32. 33. 34. 35. 36. 37. 38. 39. 40.] [315. 325. 335. 345. 355. 365. 375. 385. 395. 405.] [11. 12. 13. 14. 15. 16. 17. 18. 19. 20.] [415. 425. 435. 445. 455. 465. 475. 485. 495. 505.]\n"
     ]
    },
    {
     "data": {
      "image/png": "[encoded data removed]",
      "text/plain": [
       "<Figure size 432x288 with 1 Axes>"
      ]
     },
     "metadata": {
      "needs_background": "light"
     },
     "output_type": "display_data"
    }
   ],
   "source": [
    "import numpy as np\n",
    "import matplotlib.pyplot as plt\n",
    "import random\n",
    "import seaborn as sns\n",
    "\n",
    "a = 10\n",
    "b = 5\n",
    "\n",
    "list1 = []\n",
    "list2 = []\n",
    "list3 = []\n",
    "list4 = []\n",
    "\n",
    "\n",
    "x = np.linspace(71, 80, 10)\n",
    "y = (a*x)+b-600\n",
    "\n",
    "list1.append(x)\n",
    "list1.append(y)\n",
    "\n",
    "x2 = np.linspace(51, 60, 10)\n",
    "y2 = (a*x2)+b-300\n",
    "\n",
    "list2.append(x2)\n",
    "list2.append(y2)\n",
    "\n",
    "x3 = np.linspace(31, 40, 10)\n",
    "y3 = (a*x3)+b\n",
    "\n",
    "list3.append(x3)\n",
    "list3.append(y3)\n",
    "\n",
    "x4 = np.linspace(11, 20, 10)\n",
    "y4 = (a*x4)+b+300\n",
    "\n",
    "list4.append(x4)\n",
    "list4.append(y4)\n",
    "\n",
    "print(x,y,x2,y2,x3,y3,x4,y4)\n",
    "\n",
    "plota = plt.plot(x,y,\"o\",x2,y2,\"o\",x3,y3,\"o\",x4,y4,\"o\")\n",
    "\n",
    "#plotab = plt.plot(list1,list2,list3,list4)\n",
    "#plt.plot(x2,y2,\"o\")\n",
    "#plt.plot(x3,y3,\"o\")\n",
    "#plt.plot(x4,y4,\"o\")\n",
    "sns.regplot(x4, y)\n",
    "\n",
    "plt.show()\n",
    "\n",
    "\n",
    "#### Add in a trendline on the data to show Simspons paradox "
   ]
  },
  {
   "cell_type": "markdown",
   "metadata": {},
   "source": [
    "The 4 sets of data shown in the graph above give reflection of Simpsons paradox. You can have numerous sets of data with increasing value in all cases but if the trendline was added correctly over the four sets of data it would show a decrease overall. This is why data sometimes needs to be analysed in smaller portions and not looked at as a whole. Each of the sets of data increases when it moves along the x-axis."
   ]
  },
  {
   "cell_type": "markdown",
   "metadata": {},
   "source": [
    "\n",
    "## References\n",
    "\n",
    "1. https://brilliant.org/wiki/simpsons-paradox/#:~:text=When%20aggregated%20across%20all%20of,the%20average%20tax%20rate%20increased!&text=In%20fact%2C%20one%20real%2Dworld,has%20risen%20(about%201%25\n",
    "2. https://en.wikipedia.org/wiki/Simpson%27s_paradox#:~:text=Simpson's%20paradox%2C%20which%20also%20goes,when%20these%20groups%20are%20combined\n",
    "3. https://www.bbc.co.uk/bitesize/guides/z9387p3/revision/3\n",
    "4. https://sociologicalgobbledygook.com/simpsons-paradox-homework-example.html\n",
    "5. https://stackoverflow.com/questions/16001157/simpsons-rule-in-python\n",
    "6. https://scienceterms.net/psychology/simpsons-paradox/\n"
   ]
  },
  {
   "cell_type": "code",
   "execution_count": null,
   "metadata": {},
   "outputs": [],
   "source": []
  }
 ],
 "metadata": {
  "kernelspec": {
   "display_name": "Python 3",
   "language": "python",
   "name": "python3"
  },
  "language_info": {
   "codemirror_mode": {
    "name": "ipython",
    "version": 3
   },
   "file_extension": ".py",
   "mimetype": "text/x-python",
   "name": "python",
   "nbconvert_exporter": "python",
   "pygments_lexer": "ipython3",
   "version": "3.7.4"
  }
 },
 "nbformat": 4,
 "nbformat_minor": 2
}
