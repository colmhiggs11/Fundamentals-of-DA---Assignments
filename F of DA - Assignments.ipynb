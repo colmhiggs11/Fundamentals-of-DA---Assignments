{
 "cells": [
  {
   "cell_type": "markdown",
   "metadata": {},
   "source": [
    "<br>\n",
    "\n",
    "# Assignment 1\n",
    "***\n",
    "Assignment 1 consists of writing a Python function called counts that takes a list as\n",
    "input and returns a dictionary of unique items in the list as keys and the number of\n",
    "times each item appears as values. So, the input ['A', 'A', 'B', 'C', 'A']\n",
    "should have output {'A': 3, 'B': 1, 'C': 1}"
   ]
  },
  {
   "cell_type": "code",
   "execution_count": 47,
   "metadata": {},
   "outputs": [],
   "source": [
    "def CountFrequency(my_list):   \n",
    "    # Creating an empty dictionary  \n",
    "    freq = {} \n",
    "    freq[\"key\"] = ['1','1','1','1','2','2','2','2','1','2']\n",
    "    #items = dict.fromkeys(my_list , 1)\n",
    "    #freq[items] = my_list.count(items)\n",
    "    print(freq)\n",
    "    print(my_list.count(\"key\"))\n",
    "    \n",
    "#my_list =[1,1,1,1,2:2,2,2,2,1,2]\n",
    "#CountFrequency(my_list)    "
   ]
  },
  {
   "cell_type": "code",
   "execution_count": 48,
   "metadata": {},
   "outputs": [
    {
     "name": "stdout",
     "output_type": "stream",
     "text": [
      "{'key': ['1', '1', '1', '1', '2', '2', '2', '2', '1', '2']}\n",
      "0\n"
     ]
    }
   ],
   "source": [
    "CountFrequency(my_list)"
   ]
  },
  {
   "cell_type": "code",
   "execution_count": null,
   "metadata": {},
   "outputs": [],
   "source": []
  }
 ],
 "metadata": {
  "kernelspec": {
   "display_name": "Python 3",
   "language": "python",
   "name": "python3"
  },
  "language_info": {
   "codemirror_mode": {
    "name": "ipython",
    "version": 3
   },
   "file_extension": ".py",
   "mimetype": "text/x-python",
   "name": "python",
   "nbconvert_exporter": "python",
   "pygments_lexer": "ipython3",
   "version": "3.7.4"
  }
 },
 "nbformat": 4,
 "nbformat_minor": 2
}
